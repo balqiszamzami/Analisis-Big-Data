{
  "cells": [
    {
      "cell_type": "markdown",
      "metadata": {
        "id": "jV8ZKesZvREX"
      },
      "source": [
        "# **Penggunaan Pyspark dan Algoritma ALS (*Alternating Least Squares*) Untuk Mesin Rekomendasi Film Berdasarkan Rating dari Movielens**\n",
        "\n",
        "\n",
        "\n",
        "\n",
        "Dataset: <a href=\"https://files.grouplens.org/datasets/movielens/ml-25m-README.html\">MovieLens dataset</a>"
      ]
    },
    {
      "cell_type": "markdown",
      "metadata": {
        "id": "24VgWzqOvREa"
      },
      "source": [
        "## Import & Install Packages"
      ]
    },
    {
      "cell_type": "code",
      "execution_count": null,
      "metadata": {
        "id": "Q_oaw-6DxTm5",
        "colab": {
          "base_uri": "https://localhost:8080/"
        },
        "outputId": "9816f0f7-d477-4b1a-f144-9b409cd62d3c"
      },
      "outputs": [
        {
          "output_type": "stream",
          "name": "stdout",
          "text": [
            "Requirement already satisfied: pyspark in /usr/local/lib/python3.10/dist-packages (3.5.1)\n",
            "Requirement already satisfied: py4j==0.10.9.7 in /usr/local/lib/python3.10/dist-packages (from pyspark) (0.10.9.7)\n"
          ]
        }
      ],
      "source": [
        "!pip install pyspark"
      ]
    },
    {
      "cell_type": "code",
      "execution_count": null,
      "metadata": {
        "id": "DpblQ-devREa",
        "colab": {
          "base_uri": "https://localhost:8080/"
        },
        "outputId": "98c1ef39-3e5c-4238-f541-7c492db8ea2d"
      },
      "outputs": [
        {
          "output_type": "stream",
          "name": "stderr",
          "text": [
            "[nltk_data] Downloading package punkt to /root/nltk_data...\n",
            "[nltk_data]   Package punkt is already up-to-date!\n"
          ]
        }
      ],
      "source": [
        "%load_ext autoreload\n",
        "%autoreload 2\n",
        "\n",
        "import os\n",
        "import sys\n",
        "\n",
        "module_path = os.path.abspath(os.path.join(os.pardir, os.pardir))\n",
        "if module_path not in sys.path:\n",
        "    sys.path.append(module_path)\n",
        "\n",
        "import zipfile\n",
        "import pandas as pd\n",
        "import numpy as np\n",
        "import seaborn as sns\n",
        "import matplotlib.pyplot as plt\n",
        "from matplotlib import ticker\n",
        "\n",
        "import nltk\n",
        "nltk.download('punkt')\n",
        "from nltk.tokenize import word_tokenize\n",
        "from collections import Counter\n",
        "\n",
        "from sklearn.feature_extraction.text import CountVectorizer\n",
        "from sklearn.metrics.pairwise import cosine_similarity\n",
        "\n",
        "from nltk.tokenize import word_tokenize\n",
        "from collections import Counter\n",
        "\n",
        "from PIL import Image\n",
        "from wordcloud import WordCloud, STOPWORDS, ImageColorGenerator\n",
        "\n",
        "import pyspark\n",
        "from pyspark.sql import SparkSession\n",
        "from pyspark.sql.functions import col, min, max, avg\n",
        "from pyspark.ml.recommendation import ALS\n",
        "from pyspark.ml.evaluation import RegressionEvaluator\n",
        "\n",
        "# Start a spark session\n",
        "spark = SparkSession.builder.getOrCreate()"
      ]
    },
    {
      "cell_type": "markdown",
      "metadata": {
        "id": "G5G6Avq9SzBH"
      },
      "source": [
        "## Mengakses & Mengunduh File di Google Drive"
      ]
    },
    {
      "cell_type": "code",
      "execution_count": null,
      "metadata": {
        "id": "KyMrEWyGvaET",
        "colab": {
          "base_uri": "https://localhost:8080/"
        },
        "outputId": "994a38c2-fba8-4ff4-adb0-5282d19f3dae"
      },
      "outputs": [
        {
          "output_type": "stream",
          "name": "stdout",
          "text": [
            "Drive already mounted at /content/drive; to attempt to forcibly remount, call drive.mount(\"/content/drive\", force_remount=True).\n"
          ]
        }
      ],
      "source": [
        "from google.colab import drive\n",
        "drive.mount('/content/drive')"
      ]
    },
    {
      "cell_type": "markdown",
      "metadata": {
        "id": "nSRUt-D4vREc"
      },
      "source": [
        "### Import Data\n",
        "\n",
        "CSV files are imported and converted to both Pandas and Spark data frames, and are extensively used in this project."
      ]
    },
    {
      "cell_type": "code",
      "execution_count": null,
      "metadata": {
        "colab": {
          "base_uri": "https://localhost:8080/"
        },
        "id": "tsa5q1p1vx_i",
        "outputId": "ec616045-d0e0-4f48-834f-ad3cf04fc6e6"
      },
      "outputs": [
        {
          "output_type": "stream",
          "name": "stderr",
          "text": [
            "Downloading...\n",
            "From (original): https://drive.google.com/uc?id=1iSFV8qdiSdTSSY2EgLm8atDhub2oCbb8\n",
            "From (redirected): https://drive.google.com/uc?id=1iSFV8qdiSdTSSY2EgLm8atDhub2oCbb8&confirm=t&uuid=92ae6c30-92d7-4d16-963f-dac93b78c2de\n",
            "To: /content/file.zip\n",
            "100%|██████████| 184M/184M [00:07<00:00, 23.7MB/s]\n"
          ]
        }
      ],
      "source": [
        "import gdown\n",
        "import zipfile\n",
        "import os\n",
        "\n",
        "# Fungsi untuk mengunduh file dari Google Drive\n",
        "def download_file_from_google_drive(id, destination):\n",
        "    url = 'https://drive.google.com/uc?id=' + id\n",
        "    gdown.download(url, destination, quiet=False)\n",
        "\n",
        "# Fungsi untuk mengekstrak file zip\n",
        "def unzip_file(zip_file, destination):\n",
        "    with zipfile.ZipFile(zip_file, 'r') as zip_ref:\n",
        "        zip_ref.extractall(destination)\n",
        "\n",
        "# ID dari file di Google Drive\n",
        "file_id = '1iSFV8qdiSdTSSY2EgLm8atDhub2oCbb8'\n",
        "\n",
        "# Lokasi tempat menyimpan file yang diunduh\n",
        "downloaded_file = 'file.zip'\n",
        "\n",
        "# Lokasi tempat ekstraksi file\n",
        "extracted_folder = 'extracted_folder'\n",
        "\n",
        "# Unduh file dari Google Drive\n",
        "download_file_from_google_drive(file_id, downloaded_file)\n",
        "\n",
        "# Ekstrak file zip\n",
        "unzip_file(downloaded_file, extracted_folder)\n",
        "\n",
        "# Hapus file zip jika diperlukan\n",
        "# os.remove(downloaded_file)"
      ]
    },
    {
      "cell_type": "markdown",
      "metadata": {
        "id": "lf7iCsmSGj-J"
      },
      "source": [
        "## Membaca Data dengan Apache Spark"
      ]
    },
    {
      "cell_type": "code",
      "execution_count": null,
      "metadata": {
        "id": "i_3rJL7FvREc"
      },
      "outputs": [],
      "source": [
        "links = spark.read.csv('/content/extracted_folder/data/links.csv', inferSchema=True, header=True)\n",
        "movies = spark.read.csv(\"/content/extracted_folder/data/movies.csv\", inferSchema=True, header=True)\n",
        "ratings = spark.read.csv(\"/content/extracted_folder/data/ratings.csv\", inferSchema=True, header=True)\n",
        "tags = spark.read.csv(\"/content/extracted_folder/data/tags.csv\", inferSchema=True, header=True)"
      ]
    },
    {
      "cell_type": "code",
      "source": [
        "links.show(5)\n",
        "movies.show(5)\n",
        "ratings.show(5)\n",
        "tags.show(5)"
      ],
      "metadata": {
        "colab": {
          "base_uri": "https://localhost:8080/"
        },
        "id": "AmHxEeL1CBaW",
        "outputId": "bda9649f-9317-41c5-e2ea-30df1e02b3fb"
      },
      "execution_count": null,
      "outputs": [
        {
          "output_type": "stream",
          "name": "stdout",
          "text": [
            "+-------+------+------+\n",
            "|movieId|imdbId|tmdbId|\n",
            "+-------+------+------+\n",
            "|      1|114709|   862|\n",
            "|      2|113497|  8844|\n",
            "|      3|113228| 15602|\n",
            "|      4|114885| 31357|\n",
            "|      5|113041| 11862|\n",
            "+-------+------+------+\n",
            "only showing top 5 rows\n",
            "\n",
            "+-------+--------------------+--------------------+\n",
            "|movieId|               title|              genres|\n",
            "+-------+--------------------+--------------------+\n",
            "|      1|    Toy Story (1995)|Adventure|Animati...|\n",
            "|      2|      Jumanji (1995)|Adventure|Childre...|\n",
            "|      3|Grumpier Old Men ...|      Comedy|Romance|\n",
            "|      4|Waiting to Exhale...|Comedy|Drama|Romance|\n",
            "|      5|Father of the Bri...|              Comedy|\n",
            "+-------+--------------------+--------------------+\n",
            "only showing top 5 rows\n",
            "\n",
            "+------+-------+------+----------+\n",
            "|userId|movieId|rating| timestamp|\n",
            "+------+-------+------+----------+\n",
            "|     1|    296|   5.0|1147880044|\n",
            "|     1|    306|   3.5|1147868817|\n",
            "|     1|    307|   5.0|1147868828|\n",
            "|     1|    665|   5.0|1147878820|\n",
            "|     1|    899|   3.5|1147868510|\n",
            "+------+-------+------+----------+\n",
            "only showing top 5 rows\n",
            "\n",
            "+------+-------+----------------+----------+\n",
            "|userId|movieId|             tag| timestamp|\n",
            "+------+-------+----------------+----------+\n",
            "|     3|    260|         classic|1439472355|\n",
            "|     3|    260|          sci-fi|1439472256|\n",
            "|     4|   1732|     dark comedy|1573943598|\n",
            "|     4|   1732|  great dialogue|1573943604|\n",
            "|     4|   7569|so bad it's good|1573943455|\n",
            "+------+-------+----------------+----------+\n",
            "only showing top 5 rows\n",
            "\n"
          ]
        }
      ]
    },
    {
      "cell_type": "code",
      "execution_count": null,
      "metadata": {
        "id": "wLSTU3LPTAus",
        "colab": {
          "base_uri": "https://localhost:8080/"
        },
        "outputId": "c2c27378-05a6-4a10-aa82-3f77321bb1b5"
      },
      "outputs": [
        {
          "output_type": "stream",
          "name": "stdout",
          "text": [
            "Jumlah baris dan kolom dari DataFrame links:\n",
            "Jumlah baris: 62423\n",
            "Jumlah kolom: 3\n",
            "\n",
            "Jumlah baris dan kolom dari DataFrame movies:\n",
            "Jumlah baris: 62423\n",
            "Jumlah kolom: 3\n",
            "\n",
            "Jumlah baris dan kolom dari DataFrame ratings:\n",
            "Jumlah baris: 25000095\n",
            "Jumlah kolom: 4\n",
            "\n",
            "Jumlah baris dan kolom dari DataFrame tags:\n",
            "Jumlah baris: 1093360\n",
            "Jumlah kolom: 4\n"
          ]
        }
      ],
      "source": [
        "# Menampilkan jumlah baris dan kolom dari DataFrame links\n",
        "print(\"Jumlah baris dan kolom dari DataFrame links:\")\n",
        "print(\"Jumlah baris:\", links.count())\n",
        "print(\"Jumlah kolom:\", len(links.columns))\n",
        "\n",
        "# Menampilkan jumlah baris dan kolom dari DataFrame movies\n",
        "print(\"\\nJumlah baris dan kolom dari DataFrame movies:\")\n",
        "print(\"Jumlah baris:\", movies.count())\n",
        "print(\"Jumlah kolom:\", len(movies.columns))\n",
        "\n",
        "# Menampilkan jumlah baris dan kolom dari DataFrame ratings\n",
        "print(\"\\nJumlah baris dan kolom dari DataFrame ratings:\")\n",
        "print(\"Jumlah baris:\", ratings.count())\n",
        "print(\"Jumlah kolom:\", len(ratings.columns))\n",
        "\n",
        "# Menampilkan jumlah baris dan kolom dari DataFrame tags\n",
        "print(\"\\nJumlah baris dan kolom dari DataFrame tags:\")\n",
        "print(\"Jumlah baris:\", tags.count())\n",
        "print(\"Jumlah kolom:\", len(tags.columns))"
      ]
    },
    {
      "cell_type": "code",
      "execution_count": null,
      "metadata": {
        "id": "27VJQlKlvREc",
        "colab": {
          "base_uri": "https://localhost:8080/"
        },
        "outputId": "077f6407-3d2d-4cb2-f116-b17572e09da7"
      },
      "outputs": [
        {
          "output_type": "stream",
          "name": "stdout",
          "text": [
            "+------+-------+------+--------------------+--------------------+\n",
            "|userId|movieId|rating|               title|              genres|\n",
            "+------+-------+------+--------------------+--------------------+\n",
            "|     1|    307|   5.0|Three Colors: Blu...|               Drama|\n",
            "|     1|    899|   3.5|Singin' in the Ra...|Comedy|Musical|Ro...|\n",
            "|     1|   1088|   4.0|Dirty Dancing (1987)|Drama|Musical|Rom...|\n",
            "|     1|   1237|   5.0|Seventh Seal, The...|               Drama|\n",
            "|     1|   1250|   4.0|Bridge on the Riv...| Adventure|Drama|War|\n",
            "|     1|   1260|   3.5|            M (1931)|Crime|Film-Noir|T...|\n",
            "| 32906|   1188|   5.0|Strictly Ballroom...|      Comedy|Romance|\n",
            "| 32906|   1193|   5.0|One Flew Over the...|               Drama|\n",
            "| 32906|   1198|   5.0|Raiders of the Lo...|    Action|Adventure|\n",
            "| 32906|   1201|   5.0|Good, the Bad and...|Action|Adventure|...|\n",
            "+------+-------+------+--------------------+--------------------+\n",
            "only showing top 10 rows\n",
            "\n"
          ]
        }
      ],
      "source": [
        "# Join tabels\n",
        "df = ratings.join(movies, [\"movieID\"], \"left\")\n",
        "df = df.join(tags, [\"userID\", \"movieID\"], \"left\")\n",
        "df = df.drop(\"tag\", \"timestamp\")\n",
        "\n",
        "df.show(10)"
      ]
    },
    {
      "cell_type": "code",
      "execution_count": null,
      "metadata": {
        "colab": {
          "base_uri": "https://localhost:8080/"
        },
        "id": "rjknnmakTpYT",
        "outputId": "a6ac00f0-1670-4994-a3e4-0be02ada9901"
      },
      "outputs": [
        {
          "output_type": "stream",
          "name": "stdout",
          "text": [
            "Jumlah baris dan kolom dari DataFrame df:\n",
            "Jumlah baris: 25624101\n",
            "Jumlah kolom: 5\n"
          ]
        }
      ],
      "source": [
        "# Menampilkan jumlah baris dan kolom dari DataFrame df setelah join tabel\n",
        "print(\"Jumlah baris dan kolom dari DataFrame df:\")\n",
        "print(\"Jumlah baris:\", df.count())\n",
        "print(\"Jumlah kolom:\", len(df.columns))"
      ]
    },
    {
      "cell_type": "code",
      "execution_count": null,
      "metadata": {
        "colab": {
          "base_uri": "https://localhost:8080/"
        },
        "id": "MFahGrhgvREd",
        "outputId": "cd90f92a-2d79-4377-803d-7ce257cdde30"
      },
      "outputs": [
        {
          "output_type": "stream",
          "name": "stdout",
          "text": [
            "root\n",
            " |-- userId: integer (nullable = true)\n",
            " |-- movieId: integer (nullable = true)\n",
            " |-- rating: double (nullable = true)\n",
            " |-- title: string (nullable = true)\n",
            " |-- genres: string (nullable = true)\n",
            "\n"
          ]
        }
      ],
      "source": [
        "df.printSchema()"
      ]
    },
    {
      "cell_type": "markdown",
      "metadata": {
        "id": "uhTMuMSrvREd"
      },
      "source": [
        "#### Calculating Sparsity"
      ]
    },
    {
      "cell_type": "code",
      "execution_count": null,
      "metadata": {
        "colab": {
          "base_uri": "https://localhost:8080/"
        },
        "id": "dbEZ_yA9aeSC",
        "outputId": "b6e51aca-b494-4041-cbf0-088444e79c36"
      },
      "outputs": [
        {
          "output_type": "stream",
          "name": "stdout",
          "text": [
            "The ratings dataframe is  99.73% empty.\n"
          ]
        }
      ],
      "source": [
        "# Menghitung jumlah total rating dalam dataset\n",
        "numerator = df.select(\"rating\").count()\n",
        "\n",
        "# Menghitung jumlah userId yang unik dan jumlah movieId yang unik\n",
        "num_users = df.select(\"userId\").distinct().count()\n",
        "num_movies = df.select(\"movieId\").distinct().count()\n",
        "\n",
        "# Mengatur penyebut sama dengan jumlah pengguna dikalikan dengan jumlah film\n",
        "denominator = num_users * num_movies\n",
        "\n",
        "# Membagi pembilang dengan penyebut\n",
        "sparsity = (1.0 - (numerator * 1.0) / denominator) * 100\n",
        "print(\"The ratings dataframe is \", \"%.2f\" % sparsity + \"% empty.\")"
      ]
    },
    {
      "cell_type": "markdown",
      "metadata": {
        "id": "1lyOJSY1vREd"
      },
      "source": [
        "#### Ratings Summary Statistics"
      ]
    },
    {
      "cell_type": "code",
      "execution_count": null,
      "metadata": {
        "colab": {
          "base_uri": "https://localhost:8080/"
        },
        "id": "Rt7Gw3AvbJl4",
        "outputId": "29b58b6b-69d6-4d37-fed1-db731577dc61"
      },
      "outputs": [
        {
          "output_type": "stream",
          "name": "stdout",
          "text": [
            "Movie with the fewest ratings: \n",
            "+----------+\n",
            "|min(count)|\n",
            "+----------+\n",
            "|         1|\n",
            "+----------+\n",
            "\n",
            "Avg num ratings per movie: \n",
            "+-----------------+\n",
            "|       avg(count)|\n",
            "+-----------------+\n",
            "|433.9610987857131|\n",
            "+-----------------+\n",
            "\n",
            "User with the fewest ratings: \n",
            "+----------+\n",
            "|min(count)|\n",
            "+----------+\n",
            "|        20|\n",
            "+----------+\n",
            "\n",
            "Avg num ratings per user: \n",
            "+------------------+\n",
            "|        avg(count)|\n",
            "+------------------+\n",
            "|157.64699983388806|\n",
            "+------------------+\n",
            "\n"
          ]
        }
      ],
      "source": [
        "# Menampilkan film dengan jumlah rating terendah\n",
        "print(\"Movie with the fewest ratings: \")\n",
        "df.groupBy(\"movieID\").count().select(min(\"count\")).show()\n",
        "\n",
        "# Menampilkan rata-rata jumlah rating per film\n",
        "print(\"Avg num ratings per movie: \")\n",
        "df.groupBy(\"movieID\").count().select(avg(\"count\")).show()\n",
        "\n",
        "# Menampilkan pengguna dengan jumlah rating terendah\n",
        "print(\"User with the fewest ratings: \")\n",
        "df.groupBy(\"userID\").count().select(min(\"count\")).show()\n",
        "\n",
        "# Menampilkan rata-rata jumlah rating per pengguna\n",
        "print(\"Avg num ratings per user: \")\n",
        "df.groupBy(\"userID\").count().select(avg(\"count\")).show()"
      ]
    },
    {
      "cell_type": "markdown",
      "metadata": {
        "id": "2CmFZvYVvREe"
      },
      "source": [
        "### Data Visualizations"
      ]
    },
    {
      "cell_type": "code",
      "execution_count": null,
      "metadata": {
        "colab": {
          "base_uri": "https://localhost:8080/",
          "height": 607
        },
        "id": "RA4VMddcc1kn",
        "outputId": "6df9fe5a-fb59-4d4d-957d-25d75a08640c"
      },
      "outputs": [
        {
          "output_type": "stream",
          "name": "stderr",
          "text": [
            "<ipython-input-13-243b9e93a002>:10: FutureWarning: \n",
            "\n",
            "Passing `palette` without assigning `hue` is deprecated and will be removed in v0.14.0. Assign the `x` variable to `hue` and set `legend=False` for the same effect.\n",
            "\n",
            "  ax = sns.countplot(x=\"rating\", data=ratings_pd, alpha=1, palette='Blues')\n"
          ]
        },
        {
          "output_type": "display_data",
          "data": {
            "text/plain": [
              "<Figure size 1000x500 with 1 Axes>"
            ],
            "image/png": "[encoded data removed]"
          },
          "metadata": {}
        }
      ],
      "source": [
        "# Membaca file CSV yang berisi data rating film\n",
        "ratings_pd = pd.read_csv(\"/content/extracted_folder/data/ratings.csv\")\n",
        "\n",
        "# Membuat figure dengan ukuran 10x5 inch\n",
        "plt.figure(figsize=(10, 5))\n",
        "\n",
        "# Membuat plot count menggunakan seaborn's countplot\n",
        "# Data yang digunakan adalah kolom 'rating' dari dataframe ratings_pd\n",
        "# Menggunakan colormap 'coolwarm' untuk warna plot\n",
        "ax = sns.countplot(x=\"rating\", data=ratings_pd, alpha=1, palette='Blues')\n",
        "\n",
        "# Mengatur ukuran label pada sumbu x dan y menjadi 15\n",
        "plt.tick_params(labelsize=15)\n",
        "\n",
        "# Menambahkan label pada sumbu x dengan teks \"Ratings\", ukuran font 20, dan jarak antara label dengan sumbu x sebesar 15\n",
        "plt.xlabel(\"Ratings\", fontsize=20, labelpad=15)\n",
        "\n",
        "# Menambahkan label pada sumbu y dengan teks \"Count\", ukuran font 20, dan jarak antara label dengan sumbu y sebesar 20\n",
        "plt.ylabel(\"Count\", fontsize=20, labelpad=20)\n",
        "\n",
        "# Mengatur format angka sumbu y agar ditampilkan dalam format tanpa desimal\n",
        "ax.yaxis.set_major_formatter(ticker.StrMethodFormatter('{x:,.0f}'))\n",
        "\n",
        "plt.show()"
      ]
    },
    {
      "cell_type": "code",
      "execution_count": null,
      "metadata": {
        "colab": {
          "base_uri": "https://localhost:8080/",
          "height": 509
        },
        "id": "mIgOuTHUvREf",
        "outputId": "7da9886d-1d5a-437a-a361-652572432207"
      },
      "outputs": [
        {
          "output_type": "stream",
          "name": "stderr",
          "text": [
            "<ipython-input-14-2d32da84dad0>:40: FutureWarning: \n",
            "\n",
            "Passing `palette` without assigning `hue` is deprecated and will be removed in v0.14.0. Assign the `y` variable to `hue` and set `legend=False` for the same effect.\n",
            "\n",
            "  sns.barplot(x=bow_df['Movie Count'], y=bow_df['Genre'], alpha=1, palette=\"Blues_d\")\n"
          ]
        },
        {
          "output_type": "display_data",
          "data": {
            "text/plain": [
              "<Figure size 800x400 with 1 Axes>"
            ],
            "image/png": "[encoded data removed]"
          },
          "metadata": {}
        }
      ],
      "source": [
        "# Membaca file CSV yang berisi data film\n",
        "movies_pd = pd.read_csv(\"/content/extracted_folder/data/movies.csv\")\n",
        "\n",
        "# Menggabungkan genre-genre menjadi satu kolom dan menghapus duplikat\n",
        "movies_pd['genres'] = movies_pd['genres'].str.replace('|',' ')\n",
        "\n",
        "# Mengambil unique values dari kolom 'genres' untuk mendapatkan daftar genre unik\n",
        "movie_genres = movies_pd.genres.unique()\n",
        "\n",
        "# Menggabungkan semua genre menjadi satu string\n",
        "movie_genres = \" \".join(movie_genres)\n",
        "\n",
        "# Tokenisasi string genre\n",
        "word_tokens = word_tokenize(movie_genres)\n",
        "\n",
        "# Membuat set dari kata-kata yang akan dihapus (stopset)\n",
        "stopset = ['no', 'genres', 'listed', '(', ')']\n",
        "\n",
        "# Membersihkan token dari kata-kata dalam stopset\n",
        "cleanup = [token for token in word_tokens if token not in stopset]\n",
        "\n",
        "# Menghitung frekuensi kemunculan setiap token\n",
        "bow = Counter(cleanup)\n",
        "\n",
        "# Mengonversi dictionary frekuensi menjadi dataframe pandas\n",
        "bow_dict = dict(bow)\n",
        "bow_df = pd.DataFrame.from_dict(bow_dict, orient='index', columns=[\"count\"])\n",
        "\n",
        "# Mengurutkan dataframe berdasarkan count secara menurun\n",
        "bow_df.sort_values('count', ascending=False, inplace=True)\n",
        "\n",
        "# Mereset index dataframe\n",
        "bow_df.reset_index(inplace=True)\n",
        "bow_df.columns=['Genre', 'Movie Count']\n",
        "\n",
        "# Membuat subplot dengan ukuran 8x4 inch\n",
        "fig, ax = plt.subplots(figsize=(8,4))\n",
        "\n",
        "# Membuat bar plot menggunakan seaborn\n",
        "sns.barplot(x=bow_df['Movie Count'], y=bow_df['Genre'], alpha=1, palette=\"Blues_d\")\n",
        "\n",
        "# Menambahkan label pada sumbu x dengan teks \"Movie Count\", ukuran font 16, dan jarak antara label dengan sumbu x sebesar 10\n",
        "ax.set_xlabel(\"Movie Count\", fontsize=16, labelpad=10)\n",
        "\n",
        "# Menambahkan label pada sumbu y dengan teks \"Genre\", ukuran font 16, dan jarak antara label dengan sumbu y sebesar 10\n",
        "ax.set_ylabel(\"Genre\", fontsize=16, labelpad=10)\n",
        "\n",
        "plt.show()"
      ]
    },
    {
      "cell_type": "markdown",
      "metadata": {
        "id": "1wneel2QvREf"
      },
      "source": [
        "## ALS Base Recommendation Engine"
      ]
    },
    {
      "cell_type": "code",
      "source": [
        "from pyspark.sql.functions import col, when, explode"
      ],
      "metadata": {
        "id": "l6Ekx0TErTET"
      },
      "execution_count": null,
      "outputs": []
    },
    {
      "cell_type": "markdown",
      "source": [
        "## Model ALS dengan parameter default"
      ],
      "metadata": {
        "id": "o-EXDBUFpOvt"
      }
    },
    {
      "cell_type": "code",
      "execution_count": null,
      "metadata": {
        "colab": {
          "base_uri": "https://localhost:8080/"
        },
        "id": "wVTPMhBivREg",
        "outputId": "5bbb9034-3279-4be9-df44-27c19aafe787"
      },
      "outputs": [
        {
          "output_type": "stream",
          "name": "stdout",
          "text": [
            "+------+-------+------+--------------------+--------------------+----------+\n",
            "|userId|movieId|rating|               title|              genres|prediction|\n",
            "+------+-------+------+--------------------+--------------------+----------+\n",
            "|     1|   4144|   5.0|In the Mood For L...|       Drama|Romance| 3.9978545|\n",
            "|     1|   8360|   4.0|      Shrek 2 (2004)|Adventure|Animati...|  3.128961|\n",
            "|     1|   8327|   5.0|        Dolls (2002)|       Drama|Romance| 3.7872388|\n",
            "|     1|   8973|   4.0|Bad Education (La...|      Drama|Thriller| 3.7395701|\n",
            "|     1|    899|   3.5|Singin' in the Ra...|Comedy|Musical|Ro...| 3.6803699|\n",
            "+------+-------+------+--------------------+--------------------+----------+\n",
            "only showing top 5 rows\n",
            "\n"
          ]
        }
      ],
      "source": [
        "# Memisahkan DataFrame df menjadi data pelatihan (training_data) dan data uji (test_data) dengan rasio 80:20\n",
        "(training_data, test_data) = df.randomSplit([.8, .2])\n",
        "\n",
        "# Mendefinisikan model ALS (Alternating Least Squares) dengan parameter yang sesuai\n",
        "als = ALS(userCol=\"userId\", itemCol=\"movieId\", ratingCol=\"rating\",\n",
        "          coldStartStrategy=\"drop\", nonnegative =True, implicitPrefs = False)\n",
        "\n",
        "# Melatih model ALS menggunakan data pelatihan (training_data)\n",
        "model = als.fit(training_data)\n",
        "\n",
        "# Menghasilkan prediksi pada data uji (test_data) menggunakan model yang telah dilatih\n",
        "test_predictions = model.transform(test_data)\n",
        "\n",
        "# Membatasi prediksi agar berada dalam rentang 0-5\n",
        "test_predictions = test_predictions.withColumn(\"prediction\",\n",
        "                                               when(col(\"prediction\") < 0, 0).otherwise(col(\"prediction\")))\n",
        "test_predictions = test_predictions.withColumn(\"prediction\",\n",
        "                                               when(col(\"prediction\") > 5, 5).otherwise(col(\"prediction\")))\n",
        "\n",
        "# Menampilkan hasil prediksi yang telah dibatasi\n",
        "test_predictions.show(5)"
      ]
    },
    {
      "cell_type": "markdown",
      "metadata": {
        "id": "TfGwLRHtvREg"
      },
      "source": [
        "#### Membangun evaluator RMSE\n",
        "\n",
        "RMSE atau *Root Mean Squared Error* digunakan sebagai ukuran akurasi prediksi. Misalnya, diberikan satu set item (film), seberapa baik sistem dapat memprediksi peringkat saya untuk item-item ini, atau seberapa baik sistem dapat memprediksi bahwa saya akan menonton item-item ini.\n",
        "RMSE biasanya digunakan untuk mengevaluasi masalah regresi di mana output (nilai skalar yang diprediksi) dibandingkan dengan output nilai skalar yang sebenarnya untuk titik data yang diberikan, sehingga cocok untuk evaluasi peringkat bintang lima kami."
      ]
    },
    {
      "cell_type": "code",
      "execution_count": null,
      "metadata": {
        "id": "Y-xAc-XzlAT_"
      },
      "outputs": [],
      "source": [
        "# Mendefinisikan evaluator untuk evaluasi model\n",
        "evaluator = RegressionEvaluator(metricName=\"rmse\", labelCol=\"rating\", predictionCol=\"prediction\")"
      ]
    },
    {
      "cell_type": "code",
      "execution_count": null,
      "metadata": {
        "colab": {
          "base_uri": "https://localhost:8080/"
        },
        "id": "GP2zUtcRlC3M",
        "outputId": "ca119639-b52b-41cf-b8af-459fd1e5b6b6"
      },
      "outputs": [
        {
          "output_type": "stream",
          "name": "stdout",
          "text": [
            "0.8116713249493311\n"
          ]
        }
      ],
      "source": [
        "# Menggunakan evaluator untuk mengevaluasi DataFrame \"test_predictions\" dan menghitung RMSE\n",
        "RMSE = evaluator.evaluate(test_predictions)\n",
        "\n",
        "# Mencetak nilai RMSE\n",
        "print (RMSE)"
      ]
    },
    {
      "cell_type": "markdown",
      "metadata": {
        "id": "F5_iQsmVH2PE"
      },
      "source": [
        "Kode ini mengevaluasi performa model ALS dengan menghitung Root Mean Squared Error (RMSE) antara rating aktual dan prediksi rating pada data uji. Didapatkan RMSE dari model ALS pertama adalah 0,811.\n"
      ]
    },
    {
      "cell_type": "markdown",
      "source": [
        "## Model ALS dengan parameter ditentukan"
      ],
      "metadata": {
        "id": "Q1J382SPpVxS"
      }
    },
    {
      "cell_type": "code",
      "source": [
        "# Mendefinisikan model ALS dengan parameter yang telah disesuaikan\n",
        "als2 = ALS(userCol=\"userId\", itemCol=\"movieId\", ratingCol=\"rating\",\n",
        "          alpha=0, rank=50, regParam=0.15, maxIter=10,\n",
        "          coldStartStrategy=\"drop\", nonnegative=True, implicitPrefs=False)\n",
        "\n",
        "# Melatih model dengan data pelatihan\n",
        "model = als2.fit(training_data)\n",
        "\n",
        "# Menggunakan model untuk membuat prediksi pada data uji\n",
        "test_predictions = model.transform(test_data)\n",
        "test_predictions.show(5)"
      ],
      "metadata": {
        "colab": {
          "base_uri": "https://localhost:8080/"
        },
        "id": "R4SatASgFlXG",
        "outputId": "1b33fa96-a2f4-4518-f94d-c9af83bb8bac"
      },
      "execution_count": null,
      "outputs": [
        {
          "output_type": "stream",
          "name": "stdout",
          "text": [
            "+------+-------+------+--------------------+------+----------+\n",
            "|userId|movieId|rating|               title|genres|prediction|\n",
            "+------+-------+------+--------------------+------+----------+\n",
            "|  1260|     31|   3.0|Dangerous Minds (...| Drama|  3.011889|\n",
            "|  1295|     31|   3.0|Dangerous Minds (...| Drama| 3.1177084|\n",
            "|  1645|     31|   4.0|Dangerous Minds (...| Drama|  3.406115|\n",
            "|  2032|     31|   3.0|Dangerous Minds (...| Drama| 3.0787416|\n",
            "|  2054|     31|   4.0|Dangerous Minds (...| Drama| 2.9145503|\n",
            "+------+-------+------+--------------------+------+----------+\n",
            "only showing top 5 rows\n",
            "\n"
          ]
        }
      ]
    },
    {
      "cell_type": "code",
      "source": [
        "# Menggunakan evaluator untuk mengevaluasi DataFrame \"test_predictions\" dan menghitung RMSE\n",
        "RMSE = evaluator.evaluate(test_predictions)\n",
        "\n",
        "# Mencetak nilai RMSE\n",
        "print(RMSE)"
      ],
      "metadata": {
        "colab": {
          "base_uri": "https://localhost:8080/"
        },
        "id": "MvRJ4aGhFlJX",
        "outputId": "724cc58e-9346-4224-e614-52afd0b05a13"
      },
      "execution_count": null,
      "outputs": [
        {
          "output_type": "stream",
          "name": "stdout",
          "text": [
            "0.839577231998372\n"
          ]
        }
      ]
    },
    {
      "cell_type": "markdown",
      "source": [
        "Kode ini mengevaluasi performa model ALS dengan menghitung *Root Mean Squared Error* (RMSE) antara rating aktual dan prediksi rating pada data uji. Didapatkan RMSE dari model ALS pertama adalah 0,839."
      ],
      "metadata": {
        "id": "Q_vnU8Q0nYko"
      }
    },
    {
      "cell_type": "markdown",
      "metadata": {
        "id": "KAVBEN-RvREl"
      },
      "source": [
        "## Mesin Rekomendasi Final"
      ]
    },
    {
      "cell_type": "code",
      "source": [
        "def get_recommendations(user_id):\n",
        "    recommendations = model.recommendForAllUsers(20)\n",
        "\n",
        "    recommendations = recommendations.withColumn(\"recommendations\", explode(col(\"recommendations\")))\n",
        "\n",
        "    recommendations = recommendations.withColumn(\"recommendations.rating\",\n",
        "                                                 when(col(\"recommendations.rating\") < 0, 0)\n",
        "                                                 .otherwise(col(\"recommendations.rating\")))\n",
        "    recommendations = recommendations.withColumn(\"recommendations.rating\",\n",
        "                                                 when(col(\"recommendations.rating\") > 5, 5)\n",
        "                                                 .otherwise(col(\"recommendations.rating\")))\n",
        "\n",
        "    recommendations.createOrReplaceTempView(\"ALS_recs_temp\")\n",
        "    clean_recs = spark.sql(f\"\"\"\n",
        "        SELECT userId, recommendations.movieId AS movieId, recommendations.rating AS prediction\n",
        "        FROM ALS_recs_temp\n",
        "        WHERE userId = {user_id}\n",
        "    \"\"\")\n",
        "\n",
        "    clean_recs = clean_recs.withColumn(\"prediction\", when(col(\"prediction\") < 0, 0).otherwise(col(\"prediction\")))\n",
        "    clean_recs = clean_recs.withColumn(\"prediction\", when(col(\"prediction\") > 5, 5).otherwise(col(\"prediction\")))\n",
        "\n",
        "    # Menggabungkan data rekomendasi dengan data film (movies) berdasarkan movieId\n",
        "    clean_recs = clean_recs.join(movies, on=['movieId'], how='left').select('title', 'genres', 'prediction')\n",
        "\n",
        "    # Menambahkan urutan berdasarkan title dan genres setelah prediction\n",
        "    clean_recs = clean_recs.orderBy(col(\"prediction\").desc(), col(\"title\").asc(), col(\"genres\").asc())\n",
        "\n",
        "    # Menampilkan hasil rekomendasi\n",
        "    print(f\"Rekomendasi Film Untuk Pengguna Dengan Id {user_id}:\")\n",
        "    clean_recs.show(20, truncate=False)\n",
        "\n",
        "# Meminta pengguna untuk memasukkan userId\n",
        "while True:\n",
        "    user_input = input(\"Masukkan userId (atau 'k' untuk keluar): \").strip()\n",
        "\n",
        "    # Keluar dari program jika pengguna memasukkan 'k'\n",
        "    if user_input.lower() == 'k':\n",
        "        print(\"Program Rekomendasi Film Selesai.\")\n",
        "        break\n",
        "\n",
        "    # Validasi input untuk memastikan itu adalah bilangan bulat\n",
        "    if not user_input.isdigit():\n",
        "        print(\"userId tidak terdaftar, harap masukkan userId yang benar terdaftar.\")\n",
        "        continue\n",
        "\n",
        "    user_id = int(user_input)\n",
        "\n",
        "    # Mendapatkan rekomendasi untuk userId yang diberikan\n",
        "    get_recommendations(user_id)"
      ],
      "metadata": {
        "colab": {
          "base_uri": "https://localhost:8080/"
        },
        "id": "rf-rzS0kpfPz",
        "outputId": "107c8fca-0e1c-4f8e-c635-4d3dfa712b20"
      },
      "execution_count": null,
      "outputs": [
        {
          "output_type": "stream",
          "name": "stdout",
          "text": [
            "Masukkan userId (atau 'k' untuk keluar): -1\n",
            "userId tidak terdaftar, harap masukkan userId yang benar terdaftar.\n",
            "Masukkan userId (atau 'k' untuk keluar): 1\n",
            "Rekomendasi Film Untuk Pengguna Dengan Id 1:\n",
            "+--------------------------------------------------+-----------------------+----------+\n",
            "|title                                             |genres                 |prediction|\n",
            "+--------------------------------------------------+-----------------------+----------+\n",
            "|.hack Liminality In the Case of Kyoko Tohno       |(no genres listed)     |5.0       |\n",
            "|.hack Liminality In the Case of Yuki Aihara       |(no genres listed)     |5.0       |\n",
            "|A Dirty Story (1977)                              |(no genres listed)     |5.0       |\n",
            "|Acı Aşk (2009)                                    |Drama                  |5.0       |\n",
            "|Adrenaline (1990)                                 |(no genres listed)     |5.0       |\n",
            "|Familie Brasch (2018)                             |Documentary            |5.0       |\n",
            "|Head Trauma (2006)                                |Horror|Mystery|Thriller|5.0       |\n",
            "|I'll Take You There (1999)                        |Comedy|Drama|Romance   |5.0       |\n",
            "|NOFX Backstage Passport 2                         |(no genres listed)     |5.0       |\n",
            "|Sing (1989)                                       |(no genres listed)     |5.0       |\n",
            "|The Carrier (1988)                                |Drama|Horror|Thriller  |5.0       |\n",
            "|The Law and the Fist (1964)                       |Drama|War              |5.0       |\n",
            "|The Thorn (1971)                                  |Comedy                 |5.0       |\n",
            "|Vergeef me                                        |(no genres listed)     |5.0       |\n",
            "|Mickybo and Me (2005)                             |Comedy|Drama           |4.899432  |\n",
            "|Ο Θανάσης στη χώρα της σφαλιάρας (1976)           |(no genres listed)     |4.883376  |\n",
            "|Marlene (1984)                                    |Documentary            |4.8807483 |\n",
            "|Once Upon a Ladder (2016)                         |Comedy|Romance         |4.8663144 |\n",
            "|National Theatre Live: One Man, Two Guvnors (2011)|Comedy                 |4.8603783 |\n",
            "|Civilisation (1969)                               |(no genres listed)     |4.8388166 |\n",
            "+--------------------------------------------------+-----------------------+----------+\n",
            "\n",
            "Masukkan userId (atau 'k' untuk keluar): 31\n",
            "Rekomendasi Film Untuk Pengguna Dengan Id 31:\n",
            "+--------------------------------------------------+-----------------------+----------+\n",
            "|title                                             |genres                 |prediction|\n",
            "+--------------------------------------------------+-----------------------+----------+\n",
            "|The Thorn (1971)                                  |Comedy                 |4.1462502 |\n",
            "|Acı Aşk (2009)                                    |Drama                  |4.1268363 |\n",
            "|Adrenaline (1990)                                 |(no genres listed)     |3.9033043 |\n",
            "|The Carrier (1988)                                |Drama|Horror|Thriller  |3.6810753 |\n",
            "|I'll Take You There (1999)                        |Comedy|Drama|Romance   |3.6410468 |\n",
            "|NOFX Backstage Passport 2                         |(no genres listed)     |3.6327193 |\n",
            "|Familie Brasch (2018)                             |Documentary            |3.5821078 |\n",
            "|Civilisation (1969)                               |(no genres listed)     |3.5634897 |\n",
            "|Head Trauma (2006)                                |Horror|Mystery|Thriller|3.5406394 |\n",
            "|My Teacher (2017)                                 |Romance                |3.5094948 |\n",
            "|A Dirty Story (1977)                              |(no genres listed)     |3.4907186 |\n",
            "|.hack Liminality In the Case of Kyoko Tohno       |(no genres listed)     |3.473258  |\n",
            "|.hack Liminality In the Case of Yuki Aihara       |(no genres listed)     |3.473258  |\n",
            "|National Theatre Live: One Man, Two Guvnors (2011)|Comedy                 |3.4710257 |\n",
            "|The Law and the Fist (1964)                       |Drama|War              |3.4481518 |\n",
            "|Inside Out (1991)                                 |Comedy|Drama|Romance   |3.4152677 |\n",
            "|Sing (1989)                                       |(no genres listed)     |3.4121678 |\n",
            "|Marlene (1984)                                    |Documentary            |3.3822007 |\n",
            "|Cássia (2015)                                     |Documentary            |3.3725178 |\n",
            "|Amori che non sanno stare al mondo (2017)         |Comedy|Drama           |3.3379042 |\n",
            "+--------------------------------------------------+-----------------------+----------+\n",
            "\n",
            "Masukkan userId (atau 'k' untuk keluar): k\n",
            "Program Rekomendasi Film Selesai.\n"
          ]
        }
      ]
    }
  ],
  "metadata": {
    "colab": {
      "provenance": []
    },
    "kernelspec": {
      "display_name": "learn-env",
      "language": "python",
      "name": "learn-env"
    },
    "language_info": {
      "codemirror_mode": {
        "name": "ipython",
        "version": 3
      },
      "file_extension": ".py",
      "mimetype": "text/x-python",
      "name": "python",
      "nbconvert_exporter": "python",
      "pygments_lexer": "ipython3",
      "version": "3.8.5"
    }
  },
  "nbformat": 4,
  "nbformat_minor": 0
}